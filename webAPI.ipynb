{
 "cells": [
  {
   "cell_type": "markdown",
   "id": "077346ec-55e5-4f9f-a797-d9dfb67bd277",
   "metadata": {},
   "source": [
    "Q1. What is an API? Give an example, where an API is used in real life."
   ]
  },
  {
   "cell_type": "code",
   "execution_count": null,
   "id": "c3007269-1c7b-4f73-b5bb-c11893165b53",
   "metadata": {},
   "outputs": [],
   "source": [
    "Ans:-API stands for Application Programming Interface. \n",
    "        It is a set of rules and protocols that allows different software applications to communicate with each other.\n",
    "    ex--\n",
    "    Social Media:-\n",
    "      So many social media platform perform APIs that allows developers \n",
    "        to integrate their applications with the social media platform. \n",
    "        A website that allows users to sign in using their Facebook or Google accounts. \n",
    "        \n",
    "        APIs are not limited to social media integration but are also extensively used in various domains,\n",
    "            such as payment gateways, mapping services, weather services, e-commerce platforms & many more."
   ]
  },
  {
   "cell_type": "markdown",
   "id": "d022bc2c-e222-432c-b8cb-b58fe8f7c630",
   "metadata": {},
   "source": [
    "Q2. Give advantages and disadvantages of using API."
   ]
  },
  {
   "cell_type": "code",
   "execution_count": null,
   "id": "950b0e25-432f-49ce-81b2-675baced7b2a",
   "metadata": {},
   "outputs": [],
   "source": [
    "Ans:-Advantages of APIs:-\n",
    "      i.Modularity\n",
    "       ii.Improved efficiency\n",
    "        iii.Scalibility\n",
    "         iv.Flexibility\n",
    "            \n",
    "    Disadvantages of APIs:-\n",
    "       i.Dependency\n",
    "        ii.Security risk\n",
    "          iii.Performance impact"
   ]
  },
  {
   "cell_type": "markdown",
   "id": "22ed5444-08b3-43ba-9374-8d8639fab49f",
   "metadata": {},
   "source": [
    "Q3. What is a Web API? Differentiate between API and Web API."
   ]
  },
  {
   "cell_type": "code",
   "execution_count": null,
   "id": "1023ce28-48f3-4700-b64f-fa6e699a832f",
   "metadata": {},
   "outputs": [],
   "source": [
    "Ans:-\n",
    "       A Web API, also known as a web service API or HTTP API, \n",
    "            is an API that allows communication between different software applications.\n",
    "        \n",
    "    API:\n",
    "         i.API (Application Programming Interface) is a general term that refers to a set of rules and protocols.\n",
    "            ii.APIs can utilize different protocols for communication, such as HTTP, REST, SOAP & more.\n",
    "            \n",
    "Web API:\n",
    "         i.A Web API specifically refers to an API that is accessed over the web using the HTTP protocol.\n",
    "            ii.Web APIs commonly follow RESTful principles, providing a stateless, uniform, \n",
    "                  and scalable approach to API design."
   ]
  },
  {
   "cell_type": "markdown",
   "id": "950cdbe6-a977-4c80-aaa0-6bf78555f83c",
   "metadata": {},
   "source": [
    "Q4. Explain REST and SOAP Architecture. Mention shortcomings of SOAP."
   ]
  },
  {
   "cell_type": "code",
   "execution_count": null,
   "id": "ac3f50d4-9404-4379-9dea-ee990b59f310",
   "metadata": {},
   "outputs": [],
   "source": [
    "Ans:-REST Architecture:\n",
    "    \n",
    "       i.REST is an architectural style that focuses on a stateless, client-server communication model.\n",
    "        ii.REST promotes scalability, simplicity, and loose coupling between clients and servers.\n",
    "        \n",
    "    SOAP Architecture:\n",
    "        \n",
    "        i.SOAP is a protocol-based architecture for web services communication.\n",
    "         ii.SOAP is often associated with frameworks that provide more robust and complex.\n",
    "            \n",
    "    Shortcomings of SOAP:-\n",
    "     i.Complexity\n",
    "        ii.Overhead\n",
    "          iii.Performance\n",
    "            iv.Lack of simplicity"
   ]
  },
  {
   "cell_type": "markdown",
   "id": "bc1d2c16-749e-4c91-ba9f-d2893d41dcff",
   "metadata": {},
   "source": [
    "Q5. Differentiate between REST and SOAP."
   ]
  },
  {
   "cell_type": "code",
   "execution_count": null,
   "id": "0b968b49-cfaa-44bd-8beb-35e4be0a34c4",
   "metadata": {},
   "outputs": [],
   "source": [
    "Ans:-REST:-\n",
    "       i.REST follows a stateless client-server communication model. It uses standard HTTP methods.\n",
    "        ii. RESTful services commonly transfer data in lightweight formats like JSON.\n",
    "         iii.REST services do not have a standardized contract definition.\n",
    "            \n",
    "    SOAP:-\n",
    "      i."
   ]
  }
 ],
 "metadata": {
  "kernelspec": {
   "display_name": "Python 3 (ipykernel)",
   "language": "python",
   "name": "python3"
  },
  "language_info": {
   "codemirror_mode": {
    "name": "ipython",
    "version": 3
   },
   "file_extension": ".py",
   "mimetype": "text/x-python",
   "name": "python",
   "nbconvert_exporter": "python",
   "pygments_lexer": "ipython3",
   "version": "3.10.8"
  }
 },
 "nbformat": 4,
 "nbformat_minor": 5
}
